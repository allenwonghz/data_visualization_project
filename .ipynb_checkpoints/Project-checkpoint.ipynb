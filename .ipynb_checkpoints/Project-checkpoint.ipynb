{
 "cells": [
  {
   "cell_type": "code",
   "execution_count": 14,
   "metadata": {},
   "outputs": [
    {
     "name": "stdout",
     "output_type": "stream",
     "text": [
      "Populating the interactive namespace from numpy and matplotlib\n"
     ]
    }
   ],
   "source": [
    "%matplotlib inline\n",
    "%pylab inline\n",
    "\n",
    "import pandas as pd\n",
    "import numpy as np\n",
    "import seaborn as sns"
   ]
  },
  {
   "cell_type": "code",
   "execution_count": 70,
   "metadata": {
    "collapsed": true
   },
   "outputs": [],
   "source": [
    "data = pd.read_csv(\"student_flow_aggregated_file.csv\")"
   ]
  },
  {
   "cell_type": "code",
   "execution_count": 71,
   "metadata": {},
   "outputs": [
    {
     "data": {
      "text/html": [
       "<div>\n",
       "<style>\n",
       "    .dataframe thead tr:only-child th {\n",
       "        text-align: right;\n",
       "    }\n",
       "\n",
       "    .dataframe thead th {\n",
       "        text-align: left;\n",
       "    }\n",
       "\n",
       "    .dataframe tbody tr th {\n",
       "        vertical-align: top;\n",
       "    }\n",
       "</style>\n",
       "<table border=\"1\" class=\"dataframe\">\n",
       "  <thead>\n",
       "    <tr style=\"text-align: right;\">\n",
       "      <th></th>\n",
       "      <th>Gender</th>\n",
       "      <th>actcat</th>\n",
       "      <th>T1_Level2</th>\n",
       "      <th>T2_Level2</th>\n",
       "      <th>T3_Level2</th>\n",
       "      <th>T1_IMFIT</th>\n",
       "      <th>T2_IMFIT</th>\n",
       "      <th>T3_IMFIT</th>\n",
       "      <th>YR1</th>\n",
       "      <th>YR2</th>\n",
       "      <th>transfer</th>\n",
       "      <th>HighestLevel2</th>\n",
       "      <th>count</th>\n",
       "    </tr>\n",
       "  </thead>\n",
       "  <tbody>\n",
       "    <tr>\n",
       "      <th>0</th>\n",
       "      <td>Female</td>\n",
       "      <td>1-15</td>\n",
       "      <td>Agric. &amp; Nat. Res. Cons</td>\n",
       "      <td>Agric. &amp; Nat. Res. Cons</td>\n",
       "      <td>Agric. &amp; Nat. Res. Cons</td>\n",
       "      <td>Good</td>\n",
       "      <td>Good</td>\n",
       "      <td>Good</td>\n",
       "      <td>2-year</td>\n",
       "      <td>2-year</td>\n",
       "      <td>0</td>\n",
       "      <td>Agric. &amp; Nat. Res. Cons</td>\n",
       "      <td>1</td>\n",
       "    </tr>\n",
       "    <tr>\n",
       "      <th>1</th>\n",
       "      <td>Female</td>\n",
       "      <td>1-15</td>\n",
       "      <td>Agric. &amp; Nat. Res. Cons</td>\n",
       "      <td>Agric. &amp; Nat. Res. Cons</td>\n",
       "      <td>Agric. &amp; Nat. Res. Cons</td>\n",
       "      <td>Good</td>\n",
       "      <td>Good</td>\n",
       "      <td>Good</td>\n",
       "      <td>2-year</td>\n",
       "      <td>2-year</td>\n",
       "      <td>0</td>\n",
       "      <td>Eng. Tech. &amp; Drafting</td>\n",
       "      <td>1</td>\n",
       "    </tr>\n",
       "    <tr>\n",
       "      <th>2</th>\n",
       "      <td>Female</td>\n",
       "      <td>1-15</td>\n",
       "      <td>Agric. &amp; Nat. Res. Cons</td>\n",
       "      <td>Agric. &amp; Nat. Res. Cons</td>\n",
       "      <td>Agric. &amp; Nat. Res. Cons</td>\n",
       "      <td>Good</td>\n",
       "      <td>Good</td>\n",
       "      <td>Good</td>\n",
       "      <td>2-year</td>\n",
       "      <td>2-year</td>\n",
       "      <td>0</td>\n",
       "      <td>Health Admin. &amp; Assisting</td>\n",
       "      <td>1</td>\n",
       "    </tr>\n",
       "    <tr>\n",
       "      <th>3</th>\n",
       "      <td>Female</td>\n",
       "      <td>1-15</td>\n",
       "      <td>Agric. &amp; Nat. Res. Cons</td>\n",
       "      <td>Agric. &amp; Nat. Res. Cons</td>\n",
       "      <td>Agric. &amp; Nat. Res. Cons</td>\n",
       "      <td>Good</td>\n",
       "      <td>Moderate</td>\n",
       "      <td>Moderate</td>\n",
       "      <td>4-year</td>\n",
       "      <td>4-year</td>\n",
       "      <td>0</td>\n",
       "      <td>Commun, Fam., &amp; Personal Svcs</td>\n",
       "      <td>1</td>\n",
       "    </tr>\n",
       "    <tr>\n",
       "      <th>4</th>\n",
       "      <td>Female</td>\n",
       "      <td>1-15</td>\n",
       "      <td>Agric. &amp; Nat. Res. Cons</td>\n",
       "      <td>Agric. &amp; Nat. Res. Cons</td>\n",
       "      <td>Agric. &amp; Nat. Res. Cons</td>\n",
       "      <td>Good</td>\n",
       "      <td>Moderate</td>\n",
       "      <td>Moderate</td>\n",
       "      <td>4-year</td>\n",
       "      <td>4-year</td>\n",
       "      <td>0</td>\n",
       "      <td>Education</td>\n",
       "      <td>1</td>\n",
       "    </tr>\n",
       "  </tbody>\n",
       "</table>\n",
       "</div>"
      ],
      "text/plain": [
       "   Gender actcat                T1_Level2                T2_Level2  \\\n",
       "0  Female   1-15  Agric. & Nat. Res. Cons  Agric. & Nat. Res. Cons   \n",
       "1  Female   1-15  Agric. & Nat. Res. Cons  Agric. & Nat. Res. Cons   \n",
       "2  Female   1-15  Agric. & Nat. Res. Cons  Agric. & Nat. Res. Cons   \n",
       "3  Female   1-15  Agric. & Nat. Res. Cons  Agric. & Nat. Res. Cons   \n",
       "4  Female   1-15  Agric. & Nat. Res. Cons  Agric. & Nat. Res. Cons   \n",
       "\n",
       "                 T3_Level2 T1_IMFIT  T2_IMFIT  T3_IMFIT     YR1     YR2  \\\n",
       "0  Agric. & Nat. Res. Cons     Good      Good      Good  2-year  2-year   \n",
       "1  Agric. & Nat. Res. Cons     Good      Good      Good  2-year  2-year   \n",
       "2  Agric. & Nat. Res. Cons     Good      Good      Good  2-year  2-year   \n",
       "3  Agric. & Nat. Res. Cons     Good  Moderate  Moderate  4-year  4-year   \n",
       "4  Agric. & Nat. Res. Cons     Good  Moderate  Moderate  4-year  4-year   \n",
       "\n",
       "   transfer                  HighestLevel2  count  \n",
       "0         0        Agric. & Nat. Res. Cons      1  \n",
       "1         0          Eng. Tech. & Drafting      1  \n",
       "2         0      Health Admin. & Assisting      1  \n",
       "3         0  Commun, Fam., & Personal Svcs      1  \n",
       "4         0                      Education      1  "
      ]
     },
     "execution_count": 71,
     "metadata": {},
     "output_type": "execute_result"
    }
   ],
   "source": [
    "data.head()"
   ]
  },
  {
   "cell_type": "code",
   "execution_count": 66,
   "metadata": {},
   "outputs": [
    {
     "data": {
      "image/png": "[encoded data removed]",
      "text/plain": [
       "<matplotlib.figure.Figure at 0x11dc7dad0>"
      ]
     },
     "metadata": {},
     "output_type": "display_data"
    }
   ],
   "source": [
    "_ = sns.countplot(data.actcat, palette='Set3')"
   ]
  },
  {
   "cell_type": "code",
   "execution_count": 67,
   "metadata": {},
   "outputs": [
    {
     "data": {
      "image/png": "[encoded data removed]",
      "text/plain": [
       "<matplotlib.figure.Figure at 0x11dc7dfd0>"
      ]
     },
     "metadata": {},
     "output_type": "display_data"
    }
   ],
   "source": [
    "_ = sns.countplot(data.Gender, palette='Set3')"
   ]
  },
  {
   "cell_type": "code",
   "execution_count": 72,
   "metadata": {},
   "outputs": [],
   "source": [
    "data[u'Gender'] = data.Gender.map({'Male': 0, 'Female': 1})\n",
    "data[u'YR1'] = data.YR1.map({'2-year': 0, '4-year': 1})\n",
    "data[u'YR2'] = data.YR2.map({'2-year': 0, '4-year': 1})"
   ]
  },
  {
   "cell_type": "code",
   "execution_count": 73,
   "metadata": {},
   "outputs": [
    {
     "data": {
      "text/html": [
       "<div>\n",
       "<style>\n",
       "    .dataframe thead tr:only-child th {\n",
       "        text-align: right;\n",
       "    }\n",
       "\n",
       "    .dataframe thead th {\n",
       "        text-align: left;\n",
       "    }\n",
       "\n",
       "    .dataframe tbody tr th {\n",
       "        vertical-align: top;\n",
       "    }\n",
       "</style>\n",
       "<table border=\"1\" class=\"dataframe\">\n",
       "  <thead>\n",
       "    <tr style=\"text-align: right;\">\n",
       "      <th></th>\n",
       "      <th>Gender</th>\n",
       "      <th>actcat</th>\n",
       "      <th>T1_Level2</th>\n",
       "      <th>T2_Level2</th>\n",
       "      <th>T3_Level2</th>\n",
       "      <th>T1_IMFIT</th>\n",
       "      <th>T2_IMFIT</th>\n",
       "      <th>T3_IMFIT</th>\n",
       "      <th>YR1</th>\n",
       "      <th>YR2</th>\n",
       "      <th>transfer</th>\n",
       "      <th>HighestLevel2</th>\n",
       "      <th>count</th>\n",
       "    </tr>\n",
       "  </thead>\n",
       "  <tbody>\n",
       "    <tr>\n",
       "      <th>0</th>\n",
       "      <td>1</td>\n",
       "      <td>1-15</td>\n",
       "      <td>Agric. &amp; Nat. Res. Cons</td>\n",
       "      <td>Agric. &amp; Nat. Res. Cons</td>\n",
       "      <td>Agric. &amp; Nat. Res. Cons</td>\n",
       "      <td>Good</td>\n",
       "      <td>Good</td>\n",
       "      <td>Good</td>\n",
       "      <td>0</td>\n",
       "      <td>0</td>\n",
       "      <td>0</td>\n",
       "      <td>Agric. &amp; Nat. Res. Cons</td>\n",
       "      <td>1</td>\n",
       "    </tr>\n",
       "    <tr>\n",
       "      <th>1</th>\n",
       "      <td>1</td>\n",
       "      <td>1-15</td>\n",
       "      <td>Agric. &amp; Nat. Res. Cons</td>\n",
       "      <td>Agric. &amp; Nat. Res. Cons</td>\n",
       "      <td>Agric. &amp; Nat. Res. Cons</td>\n",
       "      <td>Good</td>\n",
       "      <td>Good</td>\n",
       "      <td>Good</td>\n",
       "      <td>0</td>\n",
       "      <td>0</td>\n",
       "      <td>0</td>\n",
       "      <td>Eng. Tech. &amp; Drafting</td>\n",
       "      <td>1</td>\n",
       "    </tr>\n",
       "    <tr>\n",
       "      <th>2</th>\n",
       "      <td>1</td>\n",
       "      <td>1-15</td>\n",
       "      <td>Agric. &amp; Nat. Res. Cons</td>\n",
       "      <td>Agric. &amp; Nat. Res. Cons</td>\n",
       "      <td>Agric. &amp; Nat. Res. Cons</td>\n",
       "      <td>Good</td>\n",
       "      <td>Good</td>\n",
       "      <td>Good</td>\n",
       "      <td>0</td>\n",
       "      <td>0</td>\n",
       "      <td>0</td>\n",
       "      <td>Health Admin. &amp; Assisting</td>\n",
       "      <td>1</td>\n",
       "    </tr>\n",
       "    <tr>\n",
       "      <th>3</th>\n",
       "      <td>1</td>\n",
       "      <td>1-15</td>\n",
       "      <td>Agric. &amp; Nat. Res. Cons</td>\n",
       "      <td>Agric. &amp; Nat. Res. Cons</td>\n",
       "      <td>Agric. &amp; Nat. Res. Cons</td>\n",
       "      <td>Good</td>\n",
       "      <td>Moderate</td>\n",
       "      <td>Moderate</td>\n",
       "      <td>1</td>\n",
       "      <td>1</td>\n",
       "      <td>0</td>\n",
       "      <td>Commun, Fam., &amp; Personal Svcs</td>\n",
       "      <td>1</td>\n",
       "    </tr>\n",
       "    <tr>\n",
       "      <th>4</th>\n",
       "      <td>1</td>\n",
       "      <td>1-15</td>\n",
       "      <td>Agric. &amp; Nat. Res. Cons</td>\n",
       "      <td>Agric. &amp; Nat. Res. Cons</td>\n",
       "      <td>Agric. &amp; Nat. Res. Cons</td>\n",
       "      <td>Good</td>\n",
       "      <td>Moderate</td>\n",
       "      <td>Moderate</td>\n",
       "      <td>1</td>\n",
       "      <td>1</td>\n",
       "      <td>0</td>\n",
       "      <td>Education</td>\n",
       "      <td>1</td>\n",
       "    </tr>\n",
       "  </tbody>\n",
       "</table>\n",
       "</div>"
      ],
      "text/plain": [
       "   Gender actcat                T1_Level2                T2_Level2  \\\n",
       "0       1   1-15  Agric. & Nat. Res. Cons  Agric. & Nat. Res. Cons   \n",
       "1       1   1-15  Agric. & Nat. Res. Cons  Agric. & Nat. Res. Cons   \n",
       "2       1   1-15  Agric. & Nat. Res. Cons  Agric. & Nat. Res. Cons   \n",
       "3       1   1-15  Agric. & Nat. Res. Cons  Agric. & Nat. Res. Cons   \n",
       "4       1   1-15  Agric. & Nat. Res. Cons  Agric. & Nat. Res. Cons   \n",
       "\n",
       "                 T3_Level2 T1_IMFIT  T2_IMFIT  T3_IMFIT  YR1  YR2  transfer  \\\n",
       "0  Agric. & Nat. Res. Cons     Good      Good      Good    0    0         0   \n",
       "1  Agric. & Nat. Res. Cons     Good      Good      Good    0    0         0   \n",
       "2  Agric. & Nat. Res. Cons     Good      Good      Good    0    0         0   \n",
       "3  Agric. & Nat. Res. Cons     Good  Moderate  Moderate    1    1         0   \n",
       "4  Agric. & Nat. Res. Cons     Good  Moderate  Moderate    1    1         0   \n",
       "\n",
       "                   HighestLevel2  count  \n",
       "0        Agric. & Nat. Res. Cons      1  \n",
       "1          Eng. Tech. & Drafting      1  \n",
       "2      Health Admin. & Assisting      1  \n",
       "3  Commun, Fam., & Personal Svcs      1  \n",
       "4                      Education      1  "
      ]
     },
     "execution_count": 73,
     "metadata": {},
     "output_type": "execute_result"
    }
   ],
   "source": [
    "data.head()"
   ]
  },
  {
   "cell_type": "code",
   "execution_count": 74,
   "metadata": {},
   "outputs": [
    {
     "data": {
      "text/plain": [
       "False"
      ]
     },
     "execution_count": 74,
     "metadata": {},
     "output_type": "execute_result"
    }
   ],
   "source": [
    "data.isnull().values.any()"
   ]
  },
  {
   "cell_type": "code",
   "execution_count": 77,
   "metadata": {},
   "outputs": [],
   "source": [
    "act_cat = data.actcat.unique()\n",
    "majors = data.T1_Level2.unique()\n",
    "mood = data.T1_IMFIT.unique()"
   ]
  },
  {
   "cell_type": "code",
   "execution_count": 76,
   "metadata": {},
   "outputs": [
    {
     "name": "stdout",
     "output_type": "stream",
     "text": [
      "(array(['1-15', '16-19', '20-23', '24-27', '28-32', '33-36'], dtype=object), array(['Agric. & Nat. Res. Cons', 'Architecture',\n",
      "       'Area, Eth. & Multidiscip. Studies', 'Arts: Visual & Performing',\n",
      "       'Business', 'Commun, Fam., & Personal Svcs', 'Communications',\n",
      "       'Comp. Sci. & Mathematics', 'Education', 'Eng. Tech. & Drafting',\n",
      "       'Engineering', 'English & Foreign Lang.',\n",
      "       'Health Admin. & Assisting', 'Health Sci. & Techno.',\n",
      "       'Philosophy, Religion, & Theology',\n",
      "       'Repair, Production, & Construction',\n",
      "       'Sciences: Biological & Physical', 'Social Sciences & Law'], dtype=object), array(['Good', 'Moderate', 'Poor'], dtype=object), array([0, 1]))\n"
     ]
    }
   ],
   "source": [
    "print(act_cat, majors, mood)"
   ]
  },
  {
   "cell_type": "code",
   "execution_count": null,
   "metadata": {
    "collapsed": true
   },
   "outputs": [],
   "source": []
  }
 ],
 "metadata": {
  "kernelspec": {
   "display_name": "Python 2",
   "language": "python",
   "name": "python2"
  },
  "language_info": {
   "codemirror_mode": {
    "name": "ipython",
    "version": 2
   },
   "file_extension": ".py",
   "mimetype": "text/x-python",
   "name": "python",
   "nbconvert_exporter": "python",
   "pygments_lexer": "ipython2",
   "version": "2.7.13"
  }
 },
 "nbformat": 4,
 "nbformat_minor": 2
}
